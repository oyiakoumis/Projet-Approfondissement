{
  "nbformat": 4,
  "nbformat_minor": 0,
  "metadata": {
    "colab": {
      "name": "Portfolio_Machine_Learning_new (1).ipynb",
      "version": "0.3.2",
      "provenance": [],
      "collapsed_sections": [
        "w7xoFRwPfwsT",
        "kQ-RrbgFf3wM",
        "eULwUTf4zSOx"
      ],
      "toc_visible": true
    },
    "kernelspec": {
      "name": "python3",
      "display_name": "Python 3"
    }
  },
  "cells": [
    {
      "metadata": {
        "id": "asdIGTxqhZtM",
        "colab_type": "text"
      },
      "cell_type": "markdown",
      "source": [
        "# Portfolio optimization via reinforcement learning"
      ]
    },
    {
      "metadata": {
        "id": "6EICLgVthTvI",
        "colab_type": "code",
        "colab": {}
      },
      "cell_type": "code",
      "source": [
        "import numpy as np\n",
        "import pandas as pd\n",
        "import tensorflow as tf\n",
        "import matplotlib.pyplot as plt\n",
        "import glob, os, os.path\n",
        "import random\n",
        "from google.colab import files\n",
        "from zipfile import ZipFile\n",
        "import seaborn as sns\n",
        "from scipy.stats import kurtosis, skew\n"
      ],
      "execution_count": 0,
      "outputs": []
    },
    {
      "metadata": {
        "id": "4JtbpCgaxdex",
        "colab_type": "code",
        "colab": {}
      },
      "cell_type": "code",
      "source": [
        "file_name = \"important_data_new.zip\"\n",
        "\n",
        "with ZipFile(file_name, 'r') as zip:\n",
        "  zip.extractall()"
      ],
      "execution_count": 0,
      "outputs": []
    },
    {
      "metadata": {
        "id": "bJoRO84Ntwm6",
        "colab_type": "code",
        "colab": {}
      },
      "cell_type": "code",
      "source": [
        "uploaded = files.upload()"
      ],
      "execution_count": 0,
      "outputs": []
    },
    {
      "metadata": {
        "id": "evfhAZs003WM",
        "colab_type": "code",
        "colab": {}
      },
      "cell_type": "code",
      "source": [
        "!rm -rf sample_data"
      ],
      "execution_count": 0,
      "outputs": []
    },
    {
      "metadata": {
        "id": "0yT3q5Irh-Uv",
        "colab_type": "text"
      },
      "cell_type": "markdown",
      "source": [
        "## Semi-recurent neural network for portfolio optimization via reinforcement learning"
      ]
    },
    {
      "metadata": {
        "id": "w7xoFRwPfwsT",
        "colab_type": "text"
      },
      "cell_type": "markdown",
      "source": [
        "## Srnn with variance"
      ]
    },
    {
      "metadata": {
        "id": "9C7ry0ihh0j-",
        "colab_type": "code",
        "colab": {}
      },
      "cell_type": "code",
      "source": [
        "'''\n",
        "Semi-recurent neural network for portfolio optimization via reinforcement learning (normal variance)\n",
        "'''\n",
        "\n",
        "import numpy as np\n",
        "import tensorflow as tf\n",
        "import glob, os, os.path\n",
        "import random\n",
        "\n",
        "\n",
        "## Class for initialization and construction of the neural network\n",
        "\n",
        "class SRNN_portfolio_optimization(object):\n",
        "    \n",
        "    '''\n",
        "    description\n",
        "    '''\n",
        "    \n",
        "    def __init__(self, batch_size, num_inputs, time_steps, num_stocks, layers = [100, 50], learning_rate = 0.005, name = \"model\", srnn = True, restoreGraph = False):\n",
        "        \n",
        "        self.batch_size = batch_size\n",
        "        self.num_inputs = num_inputs\n",
        "        self.time_steps = time_steps\n",
        "        self.num_stocks = num_stocks\n",
        "        self.layers = layers\n",
        "        self.learning_rate = learning_rate\n",
        "        self.srnn = srnn\n",
        "        \n",
        "        tf.reset_default_graph()\n",
        "        self.sess = tf.InteractiveSession()\n",
        "        \n",
        "        if restoreGraph is False :\n",
        "\n",
        "            self.build()\n",
        "\n",
        "            self.sess.run(tf.global_variables_initializer())\n",
        "            #self.saver = tf.train.Saver()\n",
        "            #self.saver.save(self.sess, 'save/my_test_model', global_step=1000, write_meta_graph=True)\n",
        "            #self.writer = tf.summary.FileWriter('save/my_test_model', graph=tf.get_default_graph())\n",
        "        \n",
        "        else :\n",
        "            \n",
        "            tf.reset_default_graph()\n",
        "            imported_meta = tf.train.import_meta_graph('save/my_test_model')\n",
        "            imported_meta.restore(self.sess, tf.train.latest_checkpoint('./save'))\n",
        "            \n",
        "        return\n",
        "    \n",
        "\n",
        "    def build(self):\n",
        "        \n",
        "        self.inputs = tf.placeholder(tf.float32, [None, self.num_inputs, self.time_steps], name = \"Inputs\")\n",
        "        self.Portfolio_value_init = tf.placeholder(tf.float32, [None], name = \"P0\")\n",
        "        self.alpha = tf.placeholder(tf.float32, shape=(), name = \"Alpha\")\n",
        "        self.lambda0 = tf.placeholder(tf.float32, shape=(), name = \"Lambda\")\n",
        "        self.delta_init = tf.placeholder(tf.float32, [None, self.num_stocks], name = \"DeltaInit\")\n",
        "        self.epsilon = tf.placeholder(tf.float32, shape=(), name = \"Epsilon\")\n",
        "        self.c = tf.placeholder(tf.float32, shape=(), name = \"Non_risk_cost\")\n",
        "        self.S = tf.math.exp(self.inputs[: , :self.num_stocks , :])\n",
        "        self.dS = self.S[:, :, 1:] - self.S[:, :, 0:-1]\n",
        "        self.delta_vect = [self.delta_init]\n",
        "        self.Portfolio_value_vect = [self.Portfolio_value_init]\n",
        "        self.cost_vect = []\n",
        "        self.delta = self.delta_init\n",
        "        self.proportions_vect = []\n",
        "        self.returns_vect = []\n",
        "            \n",
        "        for iDate in range(self.time_steps-1):\n",
        "\n",
        "            subInput = tf.concat([self.inputs[:, 1:, iDate], self.delta] , axis=1)\n",
        "                \n",
        "            for iLayer in self.layers :\n",
        "                    \n",
        "                fi = tf.contrib.layers.fully_connected(subInput, iLayer, activation_fn = tf.nn.relu, normalizer_fn = None) # put tf.contrib.layers.batch_norm if the data is no normalized\n",
        "                subInput = fi\n",
        "                \n",
        "            self.proportions = tf.contrib.layers.fully_connected(subInput, self.num_stocks, activation_fn = tf.nn.softmax, normalizer_fn = None)\n",
        "         \n",
        "            self.proportions_leverage = tf.scalar_mul(1 + 2*self.lambda0, self.proportions) - self.lambda0\n",
        "            \n",
        "            self.delta = []\n",
        "        \n",
        "            for k in range(self.num_stocks):\n",
        "           \n",
        "                self.delta.append(tf.multiply(self.Portfolio_value_vect[iDate], tf.divide(self.proportions_leverage[:, k], self.S[:,k,iDate])))\n",
        "        \n",
        "            self.delta = tf.stack(self.delta, axis=-1)\n",
        "          \n",
        "            self.proportions_vect.append(self.proportions_leverage)\n",
        "                \n",
        "            self.delta_vect.append(self.delta)\n",
        "            \n",
        "            self.cost = self.epsilon * tf.diag_part(tf.tensordot(self.S[:,1:,iDate], tf.abs(self.delta_vect[iDate+1][:,1:] - self.delta_vect[iDate][:,1:]) , axes=[[1],[1]])) + self.c * tf.multiply(self.S[:,0,iDate], tf.abs(self.delta_vect[iDate+1][:,0] - self.delta_vect[iDate][:,0]))\n",
        "            \n",
        "            self.Portfolio_value = self.Portfolio_value_vect[iDate] + tf.diag_part(tf.tensordot(self.delta_vect[iDate+1], self.dS[:,:,iDate] , axes=[[1],[1]])) - self.cost\n",
        "            \n",
        "            self.cost_vect.append(self.cost)\n",
        "            \n",
        "            self.Portfolio_value_vect.append(self.Portfolio_value)\n",
        "            \n",
        "            self.returns = tf.divide(self.Portfolio_value_vect[iDate+1] - self.Portfolio_value_vect[iDate], self.Portfolio_value_vect[iDate])\n",
        "            \n",
        "            self.returns_vect.append(self.returns)\n",
        "                \n",
        "        self.proportions = tf.stack(self.proportions_vect, axis=-1)\n",
        "        self.delta_vect = self.delta_vect[1:]\n",
        "        self.deltas = tf.stack(self.delta_vect, axis=-1)\n",
        "        self.Portfolio_values = tf.stack(self.Portfolio_value_vect, axis=-1)\n",
        "        self.costs = tf.stack(self.cost_vect, axis=-1)\n",
        "        self.returns = tf.stack(self.returns_vect, axis=-1)\n",
        "        \n",
        "        \n",
        "        mean, var = tf.nn.moments(self.returns, axes=-1)\n",
        "        self.objective_sample = self.alpha * var - mean\n",
        "        self.objective = tf.reduce_mean(self.objective_sample)\n",
        "        self.train = tf.train.AdamOptimizer(learning_rate = self.learning_rate).minimize(self.objective)\n",
        "        \n",
        "        return\n",
        "    \n",
        "    def run_single_step_train(self, inputs, Portfolio_value_init, alpha, lambda0, delta_init, epsilon, c):\n",
        "        \n",
        "        feed_dict = {self.inputs : inputs, self.Portfolio_value_init : Portfolio_value_init, self.alpha : alpha, self.lambda0 : lambda0, self.delta_init : delta_init, self.epsilon : epsilon, self.c : c}\n",
        "        _, objective = self.sess.run([self.train, self.objective], feed_dict = feed_dict)\n",
        "\n",
        "        return objective\n",
        "    \n",
        "    def run_single_step_predict(self, inputs, Portfolio_value_init, alpha, lambda0, delta_init, epsilon, c):\n",
        "            \n",
        "        feed_dict = {self.inputs : inputs, self.Portfolio_value_init : Portfolio_value_init, self.alpha : alpha, self.lambda0 : lambda0, self.delta_init : delta_init, self.epsilon : epsilon, self.c : c}\n",
        "        Portfolio_values, deltas, proportions, returns = self.sess.run([self.Portfolio_values, self.deltas, self.proportions, self.returns], feed_dict = feed_dict)\n",
        "\n",
        "        return Portfolio_values, deltas, proportions, returns\n",
        "      \n",
        "    def run_single_step_validation(self, inputs, Portfolio_value_init, alpha, lambda0, delta_init, epsilon, c):\n",
        "            \n",
        "        feed_dict = {self.inputs : inputs, self.Portfolio_value_init : Portfolio_value_init, self.alpha : alpha, self.lambda0 : lambda0, self.delta_init : delta_init, self.epsilon : epsilon, self.c : c}\n",
        "        objective = self.sess.run(self.objective, feed_dict = feed_dict)\n",
        "        return objective\n",
        "    \n",
        "\n",
        "def train(inputs, inputs_validation, num_stocks, Portfolio_value_init, Portfolio_value_init_validation, delta_init, delta_init_validation, num_epoch, alpha = 5., lambda0 = 0., epsilon = 0., c = 0., layers = [100,50], learning_rate = 0.005, batch_size = 50, srnn = True,  restoreGraph = False ) :\n",
        "\n",
        "    #random.seed(0)\n",
        "\n",
        "    if restoreGraph is False :\n",
        "\n",
        "        #np.random.seed(0)\n",
        "\n",
        "        '''\n",
        "        filelist = glob.glob(os.path.join(os.path.realpath(__file__), \"save\"))\n",
        "        for f in filelist:\n",
        "            os.remove(f)\n",
        "        '''\n",
        "\n",
        "        portfolio_train = SRNN_portfolio_optimization(batch_size, np.shape(inputs)[1], np.shape(inputs)[2], num_stocks, layers = layers, learning_rate = learning_rate, srnn = srnn, restoreGraph = restoreGraph )\n",
        "\n",
        "        objectives = []\n",
        "\n",
        "        for epoch in range(num_epoch):\n",
        "          \n",
        "            \n",
        "\n",
        "            inputIndex = np.random.randint(0, np.shape(inputs)[0]-1, size = batch_size)\n",
        "\n",
        "            inputs_batch = inputs[inputIndex[:], :, : ]\n",
        "\n",
        "            objective = portfolio_train.run_single_step_train(inputs_batch, Portfolio_value_init, alpha, lambda0, delta_init, epsilon, c)\n",
        "\n",
        "            objective_validation =  portfolio_train.run_single_step_validation(inputs_validation, Portfolio_value_init_validation, alpha, lambda0, delta_init_validation, epsilon, c)\n",
        "            \n",
        "            objectives.append(objective_validation)\n",
        "            \n",
        "            if epoch % 100 == 0:\n",
        "              print(epoch)\n",
        "              print(objective_validation)\n",
        "            \n",
        "    return portfolio_train, np.array(objectives)\n",
        "\n",
        "\n",
        "def predict(portfolio_train, inputs, Portfolio_value_init, delta_init, alpha = 5., lambda0 = 0., epsilon = 0., c = 0.) :\n",
        "  \n",
        "    Portfolio_values, deltas, proportions, returns = portfolio_train.run_single_step_predict(inputs, Portfolio_value_init, alpha, lambda0, delta_init, epsilon, c)\n",
        "                 \n",
        "    return np.array(Portfolio_values), np.array(deltas), np.array(proportions), np.array(returns)\n",
        "\n",
        "\n",
        "  \n"
      ],
      "execution_count": 0,
      "outputs": []
    },
    {
      "metadata": {
        "id": "kQ-RrbgFf3wM",
        "colab_type": "text"
      },
      "cell_type": "markdown",
      "source": [
        "## Srnn with semivariance"
      ]
    },
    {
      "metadata": {
        "id": "CwlPJFNLWbca",
        "colab_type": "text"
      },
      "cell_type": "markdown",
      "source": [
        ""
      ]
    },
    {
      "metadata": {
        "id": "nZJgO-WEvTBB",
        "colab_type": "code",
        "colab": {}
      },
      "cell_type": "code",
      "source": [
        "'''\n",
        "Semi-recurent neural network for portfolio optimization via reinforcement learning (semivariance)\n",
        "'''\n",
        "\n",
        "import numpy as np\n",
        "import tensorflow as tf\n",
        "import glob, os, os.path\n",
        "import random\n",
        "\n",
        "\n",
        "## Class for initialization and construction of the neural network\n",
        "\n",
        "class SRNN_portfolio_optimization(object):\n",
        "    \n",
        "    '''\n",
        "    description\n",
        "    '''\n",
        "    \n",
        "    def __init__(self, batch_size, num_inputs, time_steps, num_stocks, layers = [100, 50], learning_rate = 0.005, name = \"model\", srnn = True, restoreGraph = False):\n",
        "        \n",
        "        self.batch_size = batch_size\n",
        "        self.num_inputs = num_inputs\n",
        "        self.time_steps = time_steps\n",
        "        self.num_stocks = num_stocks\n",
        "        self.layers = layers\n",
        "        self.learning_rate = learning_rate\n",
        "        self.srnn = srnn\n",
        "        \n",
        "        tf.reset_default_graph()\n",
        "        self.sess = tf.InteractiveSession()\n",
        "        \n",
        "        if restoreGraph is False :\n",
        "\n",
        "            self.build()\n",
        "\n",
        "            self.sess.run(tf.global_variables_initializer())\n",
        "            #self.saver = tf.train.Saver()\n",
        "            #self.saver.save(self.sess, 'save/my_test_model', global_step=1000, write_meta_graph=True)\n",
        "            #self.writer = tf.summary.FileWriter('save/my_test_model', graph=tf.get_default_graph())\n",
        "        \n",
        "        else :\n",
        "            \n",
        "            tf.reset_default_graph()\n",
        "            imported_meta = tf.train.import_meta_graph('save/my_test_model')\n",
        "            imported_meta.restore(self.sess, tf.train.latest_checkpoint('./save'))\n",
        "            \n",
        "        return\n",
        "    \n",
        "\n",
        "    def build(self):\n",
        "        \n",
        "        self.inputs = tf.placeholder(tf.float32, [None, self.num_inputs, self.time_steps], name = \"Inputs\")\n",
        "        self.Portfolio_value_init = tf.placeholder(tf.float32, [None], name = \"P0\")\n",
        "        self.alpha = tf.placeholder(tf.float32, shape=(), name = \"Alpha\")\n",
        "        self.lambda0 = tf.placeholder(tf.float32, shape=(), name = \"Lambda\")\n",
        "        self.delta_init = tf.placeholder(tf.float32, [None, self.num_stocks], name = \"DeltaInit\")\n",
        "        self.epsilon = tf.placeholder(tf.float32, shape=(), name = \"Epsilon\")\n",
        "        self.c = tf.placeholder(tf.float32, shape=(), name = \"Non_risk_cost\")\n",
        "        self.S = tf.math.exp(self.inputs[: , :self.num_stocks , :])\n",
        "        self.dS = self.S[:, :, 1:] - self.S[:, :, 0:-1]\n",
        "        self.delta_vect = [self.delta_init]\n",
        "        self.Portfolio_value_vect = [self.Portfolio_value_init]\n",
        "        self.cost_vect = []\n",
        "        self.delta = self.delta_init\n",
        "        self.proportions_vect = []\n",
        "        self.returns_vect = []\n",
        "            \n",
        "        for iDate in range(self.time_steps-1):\n",
        "\n",
        "            subInput = tf.concat([self.inputs[:, 1:, iDate], self.delta] , axis=1)\n",
        "                \n",
        "            for iLayer in self.layers :\n",
        "                    \n",
        "                fi = tf.contrib.layers.fully_connected(subInput, iLayer, activation_fn = tf.nn.relu, normalizer_fn = None) # put tf.contrib.layers.batch_norm if the data is no normalized\n",
        "                subInput = fi\n",
        "                \n",
        "            self.proportions = tf.contrib.layers.fully_connected(subInput, self.num_stocks, activation_fn = tf.nn.softmax, normalizer_fn = None)\n",
        "         \n",
        "            self.proportions_leverage = tf.scalar_mul(1 + 2*self.lambda0, self.proportions) - self.lambda0\n",
        "            \n",
        "            self.delta = []\n",
        "        \n",
        "            for k in range(self.num_stocks):\n",
        "           \n",
        "                self.delta.append(tf.multiply(self.Portfolio_value_vect[iDate], tf.divide(self.proportions_leverage[:, k], self.S[:,k,iDate])))\n",
        "        \n",
        "            self.delta = tf.stack(self.delta, axis=-1)\n",
        "          \n",
        "            self.proportions_vect.append(self.proportions_leverage)\n",
        "                \n",
        "            self.delta_vect.append(self.delta)\n",
        "            \n",
        "            self.cost = self.epsilon * tf.diag_part(tf.tensordot(self.S[:,1:,iDate], tf.abs(self.delta_vect[iDate+1][:,1:] - self.delta_vect[iDate][:,1:]) , axes=[[1],[1]])) + self.c * tf.multiply(self.S[:,0,iDate], tf.abs(self.delta_vect[iDate+1][:,0] - self.delta_vect[iDate][:,0]))\n",
        "            \n",
        "            self.Portfolio_value = self.Portfolio_value_vect[iDate] + tf.diag_part(tf.tensordot(self.delta_vect[iDate+1], self.dS[:,:,iDate] , axes=[[1],[1]])) - self.cost\n",
        "            \n",
        "            self.cost_vect.append(self.cost)\n",
        "            \n",
        "            self.Portfolio_value_vect.append(self.Portfolio_value)\n",
        "            \n",
        "            self.returns = tf.divide(self.Portfolio_value_vect[iDate+1] - self.Portfolio_value_vect[iDate], self.Portfolio_value_vect[iDate])\n",
        "            \n",
        "            self.returns_vect.append(self.returns)\n",
        "                \n",
        "        self.proportions = tf.stack(self.proportions_vect, axis=-1)\n",
        "        self.delta_vect = self.delta_vect[1:]\n",
        "        self.deltas = tf.stack(self.delta_vect, axis=-1)\n",
        "        self.Portfolio_values = tf.stack(self.Portfolio_value_vect, axis=-1)\n",
        "        self.costs = tf.stack(self.cost_vect, axis=-1)\n",
        "        self.returns = tf.stack(self.returns_vect, axis=-1)\n",
        "        \n",
        "        \n",
        "        mean, var = tf.nn.moments(self.returns, axes=-1)\n",
        "        \n",
        "        centered_returns_list = []\n",
        "        for k in range(self.time_steps-1):\n",
        "          centered_return = tf.square(tf.maximum(mean - self.returns_vect[k],0.))\n",
        "          centered_returns_list.append(centered_return)\n",
        "          \n",
        "        centered_returns = tf.stack(centered_returns_list, axis=-1)\n",
        "        \n",
        "        bad_variance = tf.reduce_mean(centered_returns, axis = -1)\n",
        "        \n",
        "        self.objective_sample = self.alpha * bad_variance - mean\n",
        "        self.objective = tf.reduce_mean(self.objective_sample)\n",
        "        self.train = tf.train.AdamOptimizer(learning_rate = self.learning_rate).minimize(self.objective)\n",
        "        \n",
        "        return\n",
        "    \n",
        "    def run_single_step_train(self, inputs, Portfolio_value_init, alpha, lambda0, delta_init, epsilon, c):\n",
        "        \n",
        "        feed_dict = {self.inputs : inputs, self.Portfolio_value_init : Portfolio_value_init, self.alpha : alpha, self.lambda0 : lambda0, self.delta_init : delta_init, self.epsilon : epsilon, self.c : c}\n",
        "        _, objective = self.sess.run([self.train, self.objective], feed_dict = feed_dict)\n",
        "\n",
        "        return objective\n",
        "    \n",
        "    def run_single_step_predict(self, inputs, Portfolio_value_init, alpha, lambda0, delta_init, epsilon, c):\n",
        "            \n",
        "        feed_dict = {self.inputs : inputs, self.Portfolio_value_init : Portfolio_value_init, self.alpha : alpha, self.lambda0 : lambda0, self.delta_init : delta_init, self.epsilon : epsilon, self.c : c}\n",
        "        Portfolio_values, deltas, proportions, returns = self.sess.run([self.Portfolio_values, self.deltas, self.proportions, self.returns], feed_dict = feed_dict)\n",
        "\n",
        "        return Portfolio_values, deltas, proportions, returns\n",
        "    \n",
        "\n",
        "def train(inputs, num_stocks, Portfolio_value_init, delta_init, num_epoch, alpha = 5., lambda0 = 0., epsilon = 0., c = 0., layers = [100,50], learning_rate = 0.005, batch_size = 50, srnn = True,  restoreGraph = False ) :\n",
        "\n",
        "    #random.seed(0)\n",
        "\n",
        "    if restoreGraph is False :\n",
        "\n",
        "        #np.random.seed(0)\n",
        "\n",
        "        '''\n",
        "        filelist = glob.glob(os.path.join(os.path.realpath(__file__), \"save\"))\n",
        "        for f in filelist:\n",
        "            os.remove(f)\n",
        "        '''\n",
        "\n",
        "        portfolio_train = SRNN_portfolio_optimization(batch_size, np.shape(inputs)[1], np.shape(inputs)[2], num_stocks, layers = layers, learning_rate = learning_rate, srnn = srnn, restoreGraph = restoreGraph )\n",
        "\n",
        "        objectives = []\n",
        "\n",
        "        for epoch in range(num_epoch):\n",
        "          \n",
        "            if epoch % 100 == 0:\n",
        "              print(epoch)\n",
        "\n",
        "            inputIndex = np.random.randint(0, np.shape(inputs)[0]-1, size = batch_size)\n",
        "\n",
        "            inputs_batch = inputs[inputIndex[:], :, : ]\n",
        "\n",
        "            objective = portfolio_train.run_single_step_train(inputs_batch, Portfolio_value_init, alpha, lambda0, delta_init, epsilon, c)\n",
        "\n",
        "            objectives.append(objective)\n",
        "            \n",
        "    return portfolio_train, np.array(objectives)\n",
        "\n",
        "\n",
        "def predict(portfolio_train, inputs, Portfolio_value_init, delta_init, alpha = 5., lambda0 = 0., epsilon = 0., c = 0.) :\n",
        "  \n",
        "    Portfolio_values, deltas, proportions, returns = portfolio_train.run_single_step_predict(inputs, Portfolio_value_init, alpha, lambda0, delta_init, epsilon, c)\n",
        "                 \n",
        "    return np.array(Portfolio_values), np.array(deltas), np.array(proportions), np.array(returns)\n",
        "\n",
        "\n",
        "  \n"
      ],
      "execution_count": 0,
      "outputs": []
    },
    {
      "metadata": {
        "id": "h4mjji6HWcR3",
        "colab_type": "text"
      },
      "cell_type": "markdown",
      "source": [
        "## LSTM"
      ]
    },
    {
      "metadata": {
        "id": "KmRZSXfzfUwE",
        "colab_type": "code",
        "colab": {}
      },
      "cell_type": "code",
      "source": [
        "def mean_variance(alpha, returns):\n",
        "  mean, var = tf.nn.moments(returns, axes=-1)\n",
        "  return (1-alpha)* var - alpha * mean"
      ],
      "execution_count": 0,
      "outputs": []
    },
    {
      "metadata": {
        "id": "0Sdyst_lWkQ3",
        "colab_type": "code",
        "colab": {}
      },
      "cell_type": "code",
      "source": [
        "'''\n",
        "Semi-recurent neural network for portfolio optimization via reinforcement learning (normal variance)\n",
        "'''\n",
        "\n",
        "import numpy as np\n",
        "import tensorflow as tf\n",
        "import glob, os, os.path\n",
        "import random\n",
        "\n",
        "\n",
        "## Class for initialization and construction of the neural network\n",
        "\n",
        "class SRNN_portfolio_optimization(object):\n",
        "    \n",
        "    '''\n",
        "    description\n",
        "    '''\n",
        "    \n",
        "    def __init__(self, batch_size, num_inputs, time_steps, num_stocks, loss = mean_variance,layers = [100, 50], learning_rate = 0.005, name = \"model\", srnn = True, restoreGraph = False):\n",
        "        \n",
        "        self.batch_size = batch_size\n",
        "        self.num_inputs = num_inputs\n",
        "        self.time_steps = time_steps\n",
        "        self.num_stocks = num_stocks\n",
        "        self.layers = layers\n",
        "        self.learning_rate = learning_rate\n",
        "        self.srnn = srnn\n",
        "        self.loss=loss\n",
        "        tf.reset_default_graph()\n",
        "        self.sess = tf.InteractiveSession()\n",
        "        \n",
        "        if restoreGraph is False :\n",
        "\n",
        "            self.build()\n",
        "\n",
        "            self.sess.run(tf.global_variables_initializer())\n",
        "            self.saver = tf.train.Saver()\n",
        "            #self.saver.save(self.sess, 'save/my_test_model', global_step=1000, write_meta_graph=True)\n",
        "        \n",
        "        else :\n",
        "            \n",
        "            tf.train.Saver().restore(self.sess,'save/my_test_model')\n",
        "            \n",
        "        return\n",
        "    \n",
        "\n",
        "    def build(self):\n",
        "        \n",
        "        self.inputs = tf.placeholder(tf.float32, [None, self.num_inputs, self.time_steps], name = \"Inputs\")\n",
        "        self.Portfolio_value_init = tf.placeholder(tf.float32, [None], name = \"P0\")\n",
        "        self.alpha = tf.placeholder(tf.float32, shape=(), name = \"Alpha\")\n",
        "        self.lambda0 = tf.placeholder(tf.float32, shape=(), name = \"Lambda\")\n",
        "        self.delta_init = tf.placeholder(tf.float32, [None, self.num_stocks], name = \"DeltaInit\")\n",
        "        self.epsilon = tf.placeholder(tf.float32, shape=(), name = \"Epsilon\")\n",
        "        self.c = tf.placeholder(tf.float32, shape=(), name = \"Non_risk_cost\")\n",
        "        self.S = tf.math.exp(self.inputs[: , :self.num_stocks , :])\n",
        "        self.dS = self.S[:, :, 1:] - self.S[:, :, 0:-1]\n",
        "        self.delta_vect = [self.delta_init]\n",
        "        self.Portfolio_value_vect = [self.Portfolio_value_init]\n",
        "        self.cost_vect = []\n",
        "        self.delta = self.delta_init\n",
        "        self.proportions_vect = []\n",
        "        self.returns_vect = []\n",
        "        \n",
        "        '''\n",
        "        for iDate in range(self.time_steps-1):\n",
        "\n",
        "            subInput = tf.concat([self.inputs[:, 1:, iDate], self.delta] , axis=1)\n",
        "                \n",
        "            for iLayer in self.layers :\n",
        "                    \n",
        "                fi = tf.contrib.layers.fully_connected(subInput, iLayer, activation_fn = tf.nn.relu, normalizer_fn = None) # put tf.contrib.layers.batch_norm if the data is no normalized\n",
        "                subInput = fi\n",
        "                \n",
        "            self.proportions = tf.contrib.layers.fully_connected(subInput, self.num_stocks, activation_fn = tf.nn.softmax, normalizer_fn = None)\n",
        "         \n",
        "            self.proportions_leverage = tf.scalar_mul(1 + 2*self.lambda0, self.proportions) - self.lambda0\n",
        "        '''\n",
        "        self.inputs_lstm = tf.transpose(self.inputs, perm = [0,2,1])\n",
        "        \n",
        "        self.cell = [tf.nn.rnn_cell.LSTMCell(num_units=n, num_proj = self.num_stocks) for n in self.layers]\n",
        "        #tf.nn.rnn_cell.LSTMCell(num_units=200, num_proj = self.num_stocks)\n",
        "        self.multi_cell = tf.nn.rnn_cell.MultiRNNCell(self.cell)\n",
        "        self.cell_wrapped = tf.contrib.rnn.OutputProjectionWrapper(self.multi_cell, self.num_stocks, activation = tf.nn.softmax)\n",
        "        self.proportions, self.states = tf.nn.dynamic_rnn(self.cell_wrapped, self.inputs_lstm, dtype=tf.float32)\n",
        "            \n",
        "        self.proportions = tf.transpose(self.proportions, perm = [0,2,1])\n",
        "        \n",
        "        for iDate in range(self.time_steps-1):\n",
        "            self.delta = []\n",
        "            for k in range(self.num_stocks):\n",
        "           \n",
        "                self.delta.append(tf.multiply(self.Portfolio_value_vect[iDate], tf.divide(self.proportions[:, k, iDate], self.S[:,k,iDate])))\n",
        "        \n",
        "            self.delta = tf.stack(self.delta, axis=-1)\n",
        "          \n",
        "            #self.proportions_vect.append(self.proportions)\n",
        "                \n",
        "            self.delta_vect.append(self.delta)\n",
        "            \n",
        "            self.cost = self.epsilon * tf.diag_part(tf.tensordot(self.S[:,1:,iDate], tf.abs(self.delta_vect[iDate+1][:,1:] - self.delta_vect[iDate][:,1:]) , axes=[[1],[1]])) + self.c * tf.multiply(self.S[:,0,iDate], tf.abs(self.delta_vect[iDate+1][:,0] - self.delta_vect[iDate][:,0]))\n",
        "            \n",
        "            self.Portfolio_value = self.Portfolio_value_vect[iDate] + \\\n",
        "                                  tf.diag_part(tf.tensordot(self.delta_vect[iDate+1], \n",
        "                                                            self.dS[:,:,iDate] , axes=[[1],[1]])) - self.cost\n",
        "            \n",
        "            self.cost_vect.append(self.cost)\n",
        "            \n",
        "            self.Portfolio_value_vect.append(self.Portfolio_value)\n",
        "            \n",
        "            self.returns = tf.divide(self.Portfolio_value_vect[iDate+1] - self.Portfolio_value_vect[iDate], self.Portfolio_value_vect[iDate])\n",
        "            \n",
        "            self.returns_vect.append(self.returns)\n",
        "                \n",
        "        \n",
        "        self.delta_vect = self.delta_vect[1:]\n",
        "        self.deltas = tf.stack(self.delta_vect, axis=-1)\n",
        "        self.Portfolio_values = tf.stack(self.Portfolio_value_vect, axis=-1)\n",
        "        self.costs = tf.stack(self.cost_vect, axis=-1)\n",
        "        self.returns = tf.stack(self.returns_vect, axis=-1)\n",
        "        \n",
        "        \n",
        "        self.objective_sample = self.loss(self.alpha, self.returns)\n",
        "        self.objective = tf.reduce_mean(self.objective_sample)\n",
        "        self.train = tf.train.AdamOptimizer(learning_rate = self.learning_rate).minimize(self.objective)\n",
        "        \n",
        "        return\n",
        "    \n",
        "    def run_single_step_train(self, inputs, Portfolio_value_init, alpha, lambda0, delta_init, epsilon, c):\n",
        "        \n",
        "        feed_dict = {self.inputs : inputs, self.Portfolio_value_init : Portfolio_value_init, self.alpha : alpha, self.lambda0 : lambda0, self.delta_init : delta_init, self.epsilon : epsilon, self.c : c}\n",
        "        _, objective = self.sess.run([self.train, self.objective], feed_dict = feed_dict)\n",
        "\n",
        "        return objective\n",
        "    \n",
        "    def run_single_step_predict(self, inputs, Portfolio_value_init, alpha, lambda0, delta_init, epsilon, c):\n",
        "            \n",
        "        feed_dict = {self.inputs : inputs, self.Portfolio_value_init : Portfolio_value_init, self.alpha : alpha, self.lambda0 : lambda0, self.delta_init : delta_init, self.epsilon : epsilon, self.c : c}\n",
        "        Portfolio_values, deltas, proportions, returns = self.sess.run([self.Portfolio_values, self.deltas, self.proportions, self.returns], feed_dict = feed_dict)\n",
        "\n",
        "        return Portfolio_values, deltas, proportions, returns\n",
        "      \n",
        "    def run_single_step_validation(self, inputs, Portfolio_value_init, alpha, lambda0, delta_init, epsilon, c):\n",
        "            \n",
        "        feed_dict = {self.inputs : inputs, self.Portfolio_value_init : Portfolio_value_init, self.alpha : alpha, self.lambda0 : lambda0, self.delta_init : delta_init, self.epsilon : epsilon, self.c : c}\n",
        "        objective = self.sess.run(self.objective, feed_dict = feed_dict)\n",
        "        return objective\n",
        "    \n",
        "\n",
        "def train(inputs, inputs_validation, num_stocks, Portfolio_value_init, Portfolio_value_init_validation, delta_init, delta_init_validation, num_epoch, alpha = 5., lambda0 = 0., epsilon = 0., c = 0., layers = [100,50], learning_rate = 0.005, batch_size = 50, srnn = True,  restoreGraph = False ) :\n",
        "\n",
        "    #random.seed(0)\n",
        "\n",
        "    if restoreGraph is False :\n",
        "\n",
        "        #np.random.seed(0)\n",
        "\n",
        "        '''\n",
        "        filelist = glob.glob(os.path.join(os.path.realpath(__file__), \"save\"))\n",
        "        for f in filelist:\n",
        "            os.remove(f)\n",
        "        '''\n",
        "\n",
        "        portfolio_train = SRNN_portfolio_optimization(batch_size, np.shape(inputs)[1], np.shape(inputs)[2], num_stocks, layers = layers, learning_rate = learning_rate, srnn = srnn, restoreGraph = restoreGraph )\n",
        "\n",
        "        objectives = []\n",
        "        \n",
        "        objective_validation_min = np.infty\n",
        "\n",
        "        for epoch in range(num_epoch):\n",
        "          \n",
        "            \n",
        "\n",
        "            inputIndex = np.random.randint(0, np.shape(inputs)[0]-1, size = batch_size)\n",
        "\n",
        "            inputs_batch = inputs[inputIndex[:], :, : ]\n",
        "\n",
        "            objective = portfolio_train.run_single_step_train(inputs_batch, Portfolio_value_init, alpha, lambda0, delta_init, epsilon, c)\n",
        "\n",
        "            objective_validation =  portfolio_train.run_single_step_validation(inputs_validation, Portfolio_value_init_validation, alpha, lambda0, delta_init_validation, epsilon, c)\n",
        "            \n",
        "            objectives.append(objective_validation)\n",
        "            \n",
        "            if epoch % 10 == 0:\n",
        "              print(epoch)\n",
        "              print(objective_validation)\n",
        "              \n",
        "              if objective_validation <= objective_validation_min:\n",
        "                portfolio_train.saver.save(portfolio_train.sess, 'save/my_test_model')\n",
        "    portfolio_train.sess.close()\n",
        "    return portfolio_train, np.array(objectives)\n",
        "\n",
        "\n",
        "def predict(inputs, num_stocks, Portfolio_value_init, delta_init, alpha = 5., lambda0 = 0., epsilon = 0., c = 0., layers = [100,50], learning_rate = 0.005, batch_size = 50, srnn = True,  restoreGraph = True ) :\n",
        "  \n",
        "    portfolio_train = SRNN_portfolio_optimization(batch_size, np.shape(inputs)[1], np.shape(inputs)[2], num_stocks=num_stocks, layers = layers, learning_rate = learning_rate, srnn = srnn, restoreGraph = restoreGraph )\n",
        "    \n",
        "  \n",
        "    Portfolio_values, deltas, proportions, returns = portfolio_train.run_single_step_predict(inputs, Portfolio_value_init, alpha, lambda0, delta_init, epsilon, c)\n",
        "                 \n",
        "    return np.array(Portfolio_values), np.array(deltas), np.array(proportions), np.array(returns)\n",
        "\n",
        "\n",
        "  \n"
      ],
      "execution_count": 0,
      "outputs": []
    },
    {
      "metadata": {
        "id": "vn36WhLEfSU3",
        "colab_type": "code",
        "colab": {}
      },
      "cell_type": "code",
      "source": [
        ""
      ],
      "execution_count": 0,
      "outputs": []
    },
    {
      "metadata": {
        "id": "LcGtaR0qzJh_",
        "colab_type": "text"
      },
      "cell_type": "markdown",
      "source": [
        "## Numerical results"
      ]
    },
    {
      "metadata": {
        "id": "eULwUTf4zSOx",
        "colab_type": "text"
      },
      "cell_type": "markdown",
      "source": [
        "### Toy model"
      ]
    },
    {
      "metadata": {
        "id": "EcjlcXhB4Vfj",
        "colab_type": "text"
      },
      "cell_type": "markdown",
      "source": [
        "Train"
      ]
    },
    {
      "metadata": {
        "id": "yOOia3etzPNw",
        "colab_type": "code",
        "colab": {}
      },
      "cell_type": "code",
      "source": [
        "num_assets = 3\n",
        "batch_size = 50\n",
        "alpha = 5.\n",
        "layers = [80, 40]\n",
        "learning_rate = 10**(-4)\n",
        "Portfolio_value_init = np.ones(batch_size)*100\n",
        "delta_init = np.zeros([batch_size, num_assets])\n",
        "num_epoch = 1000\n",
        "\n",
        "\n",
        "cash = np.ones([1000,31])\n",
        "\n",
        "list_S1 = []\n",
        "list_S2 = []\n",
        "for i in range(1000):\n",
        "    y = np.array(range(100, 131))\n",
        "    z = np.array(range(130, 99, -1))\n",
        "    list_S1.append(np.log(y))\n",
        "    list_S2.append(np.log(z))\n",
        "    \n",
        "inputs = np.array([cash, list_S1, list_S2])\n",
        "inputs = np.transpose(inputs, (1,0,2))\n",
        "\n"
      ],
      "execution_count": 0,
      "outputs": []
    },
    {
      "metadata": {
        "id": "xBL_VkjPzz7h",
        "colab_type": "code",
        "outputId": "760094f0-5636-4808-d05a-07cf50bb2643",
        "colab": {
          "base_uri": "https://localhost:8080/",
          "height": 241
        }
      },
      "cell_type": "code",
      "source": [
        "portfolio_train, objectives_train = train(inputs, num_assets, Portfolio_value_init, delta_init, num_epoch, batch_size = batch_size,\n",
        "                                         alpha = alpha, layers = layers, learning_rate = learning_rate)"
      ],
      "execution_count": 0,
      "outputs": [
        {
          "output_type": "stream",
          "text": [
            "/usr/local/lib/python3.6/dist-packages/tensorflow/python/client/session.py:1702: UserWarning: An interactive session is already active. This can cause out-of-memory errors in some cases. You must explicitly call `InteractiveSession.close()` to release resources held by the other session(s).\n",
            "  warnings.warn('An interactive session is already active. This can '\n"
          ],
          "name": "stderr"
        },
        {
          "output_type": "stream",
          "text": [
            "0\n",
            "100\n",
            "200\n",
            "300\n",
            "400\n",
            "500\n",
            "600\n",
            "700\n",
            "800\n",
            "900\n"
          ],
          "name": "stdout"
        }
      ]
    },
    {
      "metadata": {
        "id": "VM_wDB_g4Rlk",
        "colab_type": "text"
      },
      "cell_type": "markdown",
      "source": [
        "Test"
      ]
    },
    {
      "metadata": {
        "id": "yaDCKGgN1Udk",
        "colab_type": "code",
        "colab": {}
      },
      "cell_type": "code",
      "source": [
        "cash = np.ones([1,31])\n",
        "\n",
        "list_S1_test = []\n",
        "list_S2_test = []\n",
        "for i in range(1):\n",
        "    y = np.array(range(100, 131))\n",
        "    z = np.array(range(130, 99, -1))\n",
        "    list_S1_test.append(np.log(y))\n",
        "    list_S2_test.append(np.log(z))\n",
        "    \n",
        "inputs_test = np.array([cash, list_S1_test, list_S2_test])\n",
        "inputs_test = np.transpose(inputs_test, (1,0,2))\n",
        "\n",
        "Portfolio_value_init_test = np.ones(1)*100\n",
        "delta_init_test = np.zeros([1, num_assets])"
      ],
      "execution_count": 0,
      "outputs": []
    },
    {
      "metadata": {
        "id": "eZ5agBki4hzP",
        "colab_type": "code",
        "colab": {}
      },
      "cell_type": "code",
      "source": [
        "Portfolio_values_test, deltas_vect_test, proportions_vect_test, returns_vect_test = predict(portfolio_train, inputs_test, Portfolio_value_init_test, delta_init_test)"
      ],
      "execution_count": 0,
      "outputs": []
    },
    {
      "metadata": {
        "id": "XOu9NtXK5pLJ",
        "colab_type": "code",
        "outputId": "727b4d70-6001-4a01-9499-5ad6e75b0c3e",
        "colab": {
          "base_uri": "https://localhost:8080/",
          "height": 281
        }
      },
      "cell_type": "code",
      "source": [
        "plt.stackplot(range(30), proportions_vect_test[0,0,:], proportions_vect_test[0,1,:], proportions_vect_test[0,2,:], labels=['Cash','S1','S2'])\n",
        "plt.legend(loc='upper left')\n",
        "plt.margins(0,0)\n",
        "plt.title('Proportions')\n",
        "plt.show()\n"
      ],
      "execution_count": 0,
      "outputs": [
        {
          "output_type": "display_data",
          "data": {
            "image/png": "[encoded data removed]",
            "text/plain": [
              "<Figure size 432x288 with 1 Axes>"
            ]
          },
          "metadata": {
            "tags": []
          }
        }
      ]
    },
    {
      "metadata": {
        "id": "FaZstu3AJ7fr",
        "colab_type": "text"
      },
      "cell_type": "markdown",
      "source": [
        "### No transaction costs"
      ]
    },
    {
      "metadata": {
        "id": "8hpU0Qg3P0Rm",
        "colab_type": "code",
        "colab": {}
      },
      "cell_type": "code",
      "source": [
        ""
      ],
      "execution_count": 0,
      "outputs": []
    },
    {
      "metadata": {
        "id": "qBQ5AjJyutSR",
        "colab_type": "text"
      },
      "cell_type": "markdown",
      "source": [
        "Train\n"
      ]
    },
    {
      "metadata": {
        "id": "3pTyZ6sKJ93I",
        "colab_type": "code",
        "outputId": "8eeb7c4b-c350-48ad-8cbc-349c90529cc3",
        "colab": {
          "base_uri": "https://localhost:8080/",
          "height": 34
        }
      },
      "cell_type": "code",
      "source": [
        "inputs_train = np.load('important_data_new/inputs_train_normalized.npy')\n",
        "inputs_train.shape"
      ],
      "execution_count": 40,
      "outputs": [
        {
          "output_type": "execute_result",
          "data": {
            "text/plain": [
              "(8190, 79, 91)"
            ]
          },
          "metadata": {
            "tags": []
          },
          "execution_count": 40
        }
      ]
    },
    {
      "metadata": {
        "id": "cKNK6Di6KsaN",
        "colab_type": "code",
        "colab": {}
      },
      "cell_type": "code",
      "source": [
        "num_assets = 14\n",
        "batch_size = 50\n",
        "alpha = 0.5\n",
        "layers = [100, 50, 50]\n",
        "learning_rate = 10**(-4)\n",
        "Portfolio_value_init = np.ones(batch_size)*100\n",
        "delta_init = np.zeros([batch_size, num_assets])\n",
        "num_epoch = 20"
      ],
      "execution_count": 0,
      "outputs": []
    },
    {
      "metadata": {
        "id": "0TbS_5kTP-qa",
        "colab_type": "code",
        "colab": {
          "base_uri": "https://localhost:8080/",
          "height": 34
        },
        "outputId": "f9cf1b9f-04b8-4658-a0f2-c9cf23373600"
      },
      "cell_type": "code",
      "source": [
        "inputs_val_test = np.load('important_data_new/inputs_test_normalized.npy')\n",
        "inputs_val_test.shape"
      ],
      "execution_count": 42,
      "outputs": [
        {
          "output_type": "execute_result",
          "data": {
            "text/plain": [
              "(23, 79, 91)"
            ]
          },
          "metadata": {
            "tags": []
          },
          "execution_count": 42
        }
      ]
    },
    {
      "metadata": {
        "id": "PhpHQLJZP4iR",
        "colab_type": "code",
        "colab": {}
      },
      "cell_type": "code",
      "source": [
        "inputs_validation = inputs_val_test[:10,:,:]"
      ],
      "execution_count": 0,
      "outputs": []
    },
    {
      "metadata": {
        "id": "692CR81FRPPY",
        "colab_type": "code",
        "colab": {}
      },
      "cell_type": "code",
      "source": [
        "Portfolio_value_init_validation = np.ones(10)*100\n",
        "delta_init_validation = np.zeros([10, num_assets])\n"
      ],
      "execution_count": 0,
      "outputs": []
    },
    {
      "metadata": {
        "id": "N4KSFwZMLBCA",
        "colab_type": "code",
        "outputId": "23ce2327-e7cb-49aa-8fe4-b1231c2358f9",
        "colab": {
          "base_uri": "https://localhost:8080/",
          "height": 141
        }
      },
      "cell_type": "code",
      "source": [
        "portfolio_train, objectives_train = train(inputs_train, inputs_validation, num_assets, Portfolio_value_init, Portfolio_value_init_validation,\n",
        "                                          delta_init, delta_init_validation, num_epoch, batch_size = batch_size, learning_rate = learning_rate, layers = layers, alpha = alpha)\n"
      ],
      "execution_count": 48,
      "outputs": [
        {
          "output_type": "stream",
          "text": [
            "/usr/local/lib/python3.6/dist-packages/tensorflow/python/client/session.py:1702: UserWarning: An interactive session is already active. This can cause out-of-memory errors in some cases. You must explicitly call `InteractiveSession.close()` to release resources held by the other session(s).\n",
            "  warnings.warn('An interactive session is already active. This can '\n"
          ],
          "name": "stderr"
        },
        {
          "output_type": "stream",
          "text": [
            "0\n",
            "-0.00015406343\n",
            "10\n",
            "-0.00015377619\n"
          ],
          "name": "stdout"
        }
      ]
    },
    {
      "metadata": {
        "id": "0FdvHVxa_hUx",
        "colab_type": "code",
        "outputId": "655feb6d-99d1-4111-9469-526b52269513",
        "colab": {
          "base_uri": "https://localhost:8080/",
          "height": 459
        }
      },
      "cell_type": "code",
      "source": [
        "print(objectives_train[:50])\n",
        "print(objectives_train[-50:])"
      ],
      "execution_count": 0,
      "outputs": [
        {
          "output_type": "stream",
          "text": [
            "[-3.02236236e-04  2.24468589e-04  7.04864578e-05  1.41990618e-04\n",
            "  5.31200960e-04  2.34743697e-04 -2.77145329e-04 -2.79873755e-04\n",
            "  2.34463805e-04 -2.26189179e-04  6.72966591e-04 -3.44886561e-04\n",
            " -9.78688695e-05  2.74431222e-04  1.10390101e-04 -2.72202422e-04\n",
            "  3.08098446e-04  4.56179987e-05 -7.80791306e-05 -6.42015511e-05\n",
            "  2.71007098e-04  1.82277203e-04  4.42104138e-05  2.95455713e-04\n",
            "  2.82300374e-04  4.15237038e-04  7.38487097e-06  6.26629990e-05\n",
            "  1.48176259e-04  1.77940150e-04  6.94028044e-04 -6.54307078e-05\n",
            "  5.75153099e-05 -1.11090449e-04  6.75157411e-04 -5.40688925e-05\n",
            " -1.19713281e-04  6.94442060e-05 -2.66948162e-04 -1.10683504e-04\n",
            "  4.38623218e-04 -1.60822645e-04 -2.45442843e-05  4.52277221e-04\n",
            "  1.24171158e-04  2.11684557e-04 -3.11897689e-04  2.39628585e-04\n",
            "  6.95791823e-05 -7.02692660e-06]\n",
            "[-5.21737138e-06  1.70245316e-04 -4.36327537e-04 -3.55932832e-04\n",
            "  1.46691571e-04 -5.30727266e-05  3.32660682e-04 -2.77782616e-04\n",
            " -3.16426391e-04 -4.83012009e-05  7.54374923e-05  3.10213763e-05\n",
            " -5.75429061e-04 -1.00161575e-04  6.25515531e-05 -2.64717964e-04\n",
            " -1.92938620e-04  1.04652689e-04 -1.76451751e-04 -1.82142394e-04\n",
            " -3.68415145e-04  1.28070431e-04 -3.42909014e-04  8.71192697e-06\n",
            " -1.03381090e-05 -1.77243332e-04  6.06632442e-04  1.35406270e-04\n",
            "  4.42054734e-05  3.83290753e-05  1.84511126e-04 -2.01038885e-04\n",
            " -5.01242466e-05 -1.46495979e-04 -1.63270335e-04 -1.90717092e-05\n",
            " -7.75283261e-05 -2.76160135e-04  1.32528789e-04  2.35807369e-04\n",
            " -5.02690906e-04 -1.72875822e-04 -7.29242383e-05  4.76973873e-05\n",
            " -5.91764459e-04 -2.65118433e-04  1.04040198e-04 -1.21650473e-05\n",
            "  9.48382949e-05 -1.47259139e-04]\n"
          ],
          "name": "stdout"
        }
      ]
    },
    {
      "metadata": {
        "id": "-enjjEfIuzwI",
        "colab_type": "text"
      },
      "cell_type": "markdown",
      "source": [
        "Test"
      ]
    },
    {
      "metadata": {
        "id": "D0M16lHCk81J",
        "colab_type": "code",
        "outputId": "909f8205-3cb8-45fe-e0a1-5fec213f4c8f",
        "colab": {
          "base_uri": "https://localhost:8080/",
          "height": 34
        }
      },
      "cell_type": "code",
      "source": [
        "inputs_val_test = np.load('important_data_new/inputs_test_normalized.npy')\n",
        "inputs_val_test.shape"
      ],
      "execution_count": 49,
      "outputs": [
        {
          "output_type": "execute_result",
          "data": {
            "text/plain": [
              "(23, 79, 91)"
            ]
          },
          "metadata": {
            "tags": []
          },
          "execution_count": 49
        }
      ]
    },
    {
      "metadata": {
        "id": "_hYRjz7TQaQc",
        "colab_type": "code",
        "colab": {}
      },
      "cell_type": "code",
      "source": [
        "inputs_test = inputs_val_test[10:, :, :]"
      ],
      "execution_count": 0,
      "outputs": []
    },
    {
      "metadata": {
        "id": "nbK-QV756gx6",
        "colab_type": "code",
        "colab": {}
      },
      "cell_type": "code",
      "source": [
        "num_assets = 14\n",
        "Portfolio_value_init_test = np.ones(1)*100\n",
        "delta_init_test = np.zeros([1, num_assets])"
      ],
      "execution_count": 0,
      "outputs": []
    },
    {
      "metadata": {
        "id": "rXAey0jH5sYl",
        "colab_type": "code",
        "colab": {
          "base_uri": "https://localhost:8080/",
          "height": 254
        },
        "outputId": "762788e5-8ca4-4e71-a7e3-b376f83f030e"
      },
      "cell_type": "code",
      "source": [
        "Portfolio_values = []\n",
        "deltas_vect = []\n",
        "proportions_vect = []\n",
        "returns_vect = []\n",
        "for k in range(13):\n",
        "  Portfolio_values_test, deltas_vect_test, proportions_vect_test, returns_vect_test = predict(np.expand_dims(inputs_test[k,:,:], 0), Portfolio_value_init_test, delta_init_test, alpha = alpha)\n",
        "  Portfolio_values.append(Portfolio_values_test[0,1:])\n",
        "  deltas_vect.append(deltas_vect_test[0,:,:])\n",
        "  proportions_vect.append(proportions_vect_test[0,:,:])\n",
        "  returns_vect.append(returns_vect_test[0,:])\n",
        "  Portfolio_value_init_test = np.ones(1)*Portfolio_values_test[0,90]\n",
        "  delta_init_test = np.expand_dims(deltas_vect_test[0,:,89],0)\n",
        "  \n",
        "  \n",
        "Portfolio_values = np.array(Portfolio_values)\n",
        "Portfolio_values_total = np.concatenate(Portfolio_values, axis=0)\n",
        "Portfolio_values_total = np.append(100,Portfolio_values_total)\n",
        "\n",
        "proportions_vect = np.array(proportions_vect)\n",
        "proportions_vect = np.concatenate(proportions_vect, axis=1)\n",
        "\n",
        "deltas_vect = np.array(deltas_vect)\n",
        "deltas_vect = np.concatenate(deltas_vect, axis=1)\n",
        "\n",
        "returns_vect = np.array(returns_vect)\n",
        "returns_vect = np.concatenate(returns_vect, axis=0)\n",
        "  "
      ],
      "execution_count": 55,
      "outputs": [
        {
          "output_type": "error",
          "ename": "TypeError",
          "evalue": "ignored",
          "traceback": [
            "\u001b[0;31m---------------------------------------------------------------------------\u001b[0m",
            "\u001b[0;31mTypeError\u001b[0m                                 Traceback (most recent call last)",
            "\u001b[0;32m<ipython-input-55-80ef5a9756dc>\u001b[0m in \u001b[0;36m<module>\u001b[0;34m()\u001b[0m\n\u001b[1;32m      4\u001b[0m \u001b[0mreturns_vect\u001b[0m \u001b[0;34m=\u001b[0m \u001b[0;34m[\u001b[0m\u001b[0;34m]\u001b[0m\u001b[0;34m\u001b[0m\u001b[0;34m\u001b[0m\u001b[0m\n\u001b[1;32m      5\u001b[0m \u001b[0;32mfor\u001b[0m \u001b[0mk\u001b[0m \u001b[0;32min\u001b[0m \u001b[0mrange\u001b[0m\u001b[0;34m(\u001b[0m\u001b[0;36m13\u001b[0m\u001b[0;34m)\u001b[0m\u001b[0;34m:\u001b[0m\u001b[0;34m\u001b[0m\u001b[0;34m\u001b[0m\u001b[0m\n\u001b[0;32m----> 6\u001b[0;31m   \u001b[0mPortfolio_values_test\u001b[0m\u001b[0;34m,\u001b[0m \u001b[0mdeltas_vect_test\u001b[0m\u001b[0;34m,\u001b[0m \u001b[0mproportions_vect_test\u001b[0m\u001b[0;34m,\u001b[0m \u001b[0mreturns_vect_test\u001b[0m \u001b[0;34m=\u001b[0m \u001b[0mpredict\u001b[0m\u001b[0;34m(\u001b[0m\u001b[0mnp\u001b[0m\u001b[0;34m.\u001b[0m\u001b[0mexpand_dims\u001b[0m\u001b[0;34m(\u001b[0m\u001b[0minputs_test\u001b[0m\u001b[0;34m[\u001b[0m\u001b[0mk\u001b[0m\u001b[0;34m,\u001b[0m\u001b[0;34m:\u001b[0m\u001b[0;34m,\u001b[0m\u001b[0;34m:\u001b[0m\u001b[0;34m]\u001b[0m\u001b[0;34m,\u001b[0m \u001b[0;36m0\u001b[0m\u001b[0;34m)\u001b[0m\u001b[0;34m,\u001b[0m \u001b[0mPortfolio_value_init_test\u001b[0m\u001b[0;34m,\u001b[0m \u001b[0mdelta_init_test\u001b[0m\u001b[0;34m,\u001b[0m \u001b[0malpha\u001b[0m \u001b[0;34m=\u001b[0m \u001b[0malpha\u001b[0m\u001b[0;34m)\u001b[0m\u001b[0;34m\u001b[0m\u001b[0;34m\u001b[0m\u001b[0m\n\u001b[0m\u001b[1;32m      7\u001b[0m   \u001b[0mPortfolio_values\u001b[0m\u001b[0;34m.\u001b[0m\u001b[0mappend\u001b[0m\u001b[0;34m(\u001b[0m\u001b[0mPortfolio_values_test\u001b[0m\u001b[0;34m[\u001b[0m\u001b[0;36m0\u001b[0m\u001b[0;34m,\u001b[0m\u001b[0;36m1\u001b[0m\u001b[0;34m:\u001b[0m\u001b[0;34m]\u001b[0m\u001b[0;34m)\u001b[0m\u001b[0;34m\u001b[0m\u001b[0;34m\u001b[0m\u001b[0m\n\u001b[1;32m      8\u001b[0m   \u001b[0mdeltas_vect\u001b[0m\u001b[0;34m.\u001b[0m\u001b[0mappend\u001b[0m\u001b[0;34m(\u001b[0m\u001b[0mdeltas_vect_test\u001b[0m\u001b[0;34m[\u001b[0m\u001b[0;36m0\u001b[0m\u001b[0;34m,\u001b[0m\u001b[0;34m:\u001b[0m\u001b[0;34m,\u001b[0m\u001b[0;34m:\u001b[0m\u001b[0;34m]\u001b[0m\u001b[0;34m)\u001b[0m\u001b[0;34m\u001b[0m\u001b[0;34m\u001b[0m\u001b[0m\n",
            "\u001b[0;31mTypeError\u001b[0m: predict() missing 1 required positional argument: 'delta_init'"
          ]
        }
      ]
    },
    {
      "metadata": {
        "id": "jk05YUPTWoYg",
        "colab_type": "code",
        "outputId": "ec8f6086-734e-4fa2-ce43-853522e501e9",
        "colab": {
          "base_uri": "https://localhost:8080/",
          "height": 34
        }
      },
      "cell_type": "code",
      "source": [
        "proportions_vect.shape"
      ],
      "execution_count": 95,
      "outputs": [
        {
          "output_type": "execute_result",
          "data": {
            "text/plain": [
              "(14, 1183)"
            ]
          },
          "metadata": {
            "tags": []
          },
          "execution_count": 95
        }
      ]
    },
    {
      "metadata": {
        "id": "9EfCFBWxPwoF",
        "colab_type": "code",
        "colab": {}
      },
      "cell_type": "code",
      "source": [
        "ptf_cap_total = np.load(\"important_data_new/pft_cap_total.npy\")\n",
        "ptf_cap_total.shape\n",
        "ptf_cap_total=ptf_cap_total[-1171:]"
      ],
      "execution_count": 0,
      "outputs": []
    },
    {
      "metadata": {
        "id": "An8YTDtIV-pB",
        "colab_type": "code",
        "colab": {}
      },
      "cell_type": "code",
      "source": [
        "ptf_cap_total = ptf_cap_total/ptf_cap_total[0]*100"
      ],
      "execution_count": 0,
      "outputs": []
    },
    {
      "metadata": {
        "id": "7fOWZuU78BR-",
        "colab_type": "code",
        "outputId": "bd66c65d-a475-4d87-b5cf-2f1b9faea74f",
        "colab": {
          "base_uri": "https://localhost:8080/",
          "height": 269
        }
      },
      "cell_type": "code",
      "source": [
        "plt.plot(Portfolio_values_total, '#ff7f24', label = \"srnn\")\n",
        "plt.plot(ptf_cap_total, '#53868b', label = \"benchmark\")\n",
        "plt.legend(loc='upper left')\n",
        "\n",
        "plt.savefig('portfolio_value_1.eps', format='eps', dpi=1000)\n",
        "\n",
        "plt.show()\n",
        "\n",
        "#files.download(\"portfolio_value_1.eps\")\n"
      ],
      "execution_count": 92,
      "outputs": [
        {
          "output_type": "display_data",
          "data": {
            "image/png": "[encoded data removed]",
            "text/plain": [
              "<Figure size 432x288 with 1 Axes>"
            ]
          },
          "metadata": {
            "tags": []
          }
        }
      ]
    },
    {
      "metadata": {
        "id": "foKC4nBj2zIv",
        "colab_type": "code",
        "outputId": "68bfad34-2cc9-4a2b-d8b4-e0d2b87a7826",
        "colab": {
          "base_uri": "https://localhost:8080/",
          "height": 266
        }
      },
      "cell_type": "code",
      "source": [
        "fig = plt.figure(figsize=(8,3.5))\n",
        "ax  = fig.add_subplot(111)\n",
        "\n",
        "labels = [\"Cash\", \"SHW\", \"EMR\", \"SLB\", \"CLX\", \"GIS\", \"MCD\", \"BAX\", \"BDX\", \"HPQ\", \"WMB\", \"JPM\", \"AXP\", \"BAC\"]\n",
        "pal = sns.color_palette(\"hls\", 14)\n",
        "ax.set_position([0.1,0.1,0.7,0.85])\n",
        "ax.stackplot(range(1183), proportions_vect[0,:], proportions_vect[1, :], proportions_vect[2, :], \n",
        "             proportions_vect[3, :], proportions_vect[4, :], proportions_vect[5, :],\n",
        "             proportions_vect[6, :], proportions_vect[7, :], proportions_vect[8, :],\n",
        "             proportions_vect[9, :], proportions_vect[10, :], proportions_vect[11, :],\n",
        "             proportions_vect[12, :], proportions_vect[13, :],colors=pal, labels=labels)\n",
        "#ax.legend(loc=10)\n",
        "\n",
        "ax.legend(bbox_to_anchor=(1.20, 0.5), loc='right', ncol=1)\n",
        "\n",
        "\n",
        "plt.savefig('proportions_1.eps', format='eps', dpi=1000)\n",
        "\n",
        "\n",
        "plt.show()\n",
        "\n",
        "#files.download(\"proportions_1.eps\")\n"
      ],
      "execution_count": 96,
      "outputs": [
        {
          "output_type": "display_data",
          "data": {
            "image/png": "[encoded data removed]",
            "text/plain": [
              "<Figure size 576x252 with 1 Axes>"
            ]
          },
          "metadata": {
            "tags": []
          }
        }
      ]
    },
    {
      "metadata": {
        "colab_type": "text",
        "id": "Kd7Xf33qy-kJ"
      },
      "cell_type": "markdown",
      "source": [
        "### Transaction costs"
      ]
    },
    {
      "metadata": {
        "colab_type": "text",
        "id": "9flpECAly-kK"
      },
      "cell_type": "markdown",
      "source": [
        "Train\n"
      ]
    },
    {
      "metadata": {
        "colab_type": "code",
        "outputId": "f717cfea-7308-4ea7-9b3c-c0dfed1930e5",
        "id": "sszoEIw5y-kL",
        "colab": {
          "base_uri": "https://localhost:8080/",
          "height": 34
        }
      },
      "cell_type": "code",
      "source": [
        "inputs_train = np.load('important_data_new/inputs_train_normalized.npy')\n",
        "inputs_train.shape"
      ],
      "execution_count": 6,
      "outputs": [
        {
          "output_type": "execute_result",
          "data": {
            "text/plain": [
              "(8190, 79, 91)"
            ]
          },
          "metadata": {
            "tags": []
          },
          "execution_count": 6
        }
      ]
    },
    {
      "metadata": {
        "colab_type": "code",
        "id": "8Bnmzqfyy-kN",
        "colab": {}
      },
      "cell_type": "code",
      "source": [
        "num_assets = 14\n",
        "batch_size = 50\n",
        "alpha = 0.9\n",
        "layers = [100, 50, 50]\n",
        "epsilon = 0.00001\n",
        "learning_rate = 10**(-4)\n",
        "Portfolio_value_init = np.ones(batch_size)*100\n",
        "delta_init = np.zeros([batch_size, num_assets])\n",
        "num_epoch = 300"
      ],
      "execution_count": 0,
      "outputs": []
    },
    {
      "metadata": {
        "id": "fX3TGHwPnpnq",
        "colab_type": "code",
        "colab": {
          "base_uri": "https://localhost:8080/",
          "height": 34
        },
        "outputId": "fcad9e56-1c3f-459f-df90-d0131817c74a"
      },
      "cell_type": "code",
      "source": [
        "inputs_val_test = np.load('important_data_new/inputs_test_normalized.npy')\n",
        "inputs_val_test.shape"
      ],
      "execution_count": 8,
      "outputs": [
        {
          "output_type": "execute_result",
          "data": {
            "text/plain": [
              "(23, 79, 91)"
            ]
          },
          "metadata": {
            "tags": []
          },
          "execution_count": 8
        }
      ]
    },
    {
      "metadata": {
        "id": "upAwI8Kgnu6e",
        "colab_type": "code",
        "colab": {}
      },
      "cell_type": "code",
      "source": [
        "inputs_validation = inputs_val_test[:10,:,:]"
      ],
      "execution_count": 0,
      "outputs": []
    },
    {
      "metadata": {
        "id": "Wv4uK8Rrn0uP",
        "colab_type": "code",
        "colab": {}
      },
      "cell_type": "code",
      "source": [
        "Portfolio_value_init_validation = np.ones(10)*100\n",
        "delta_init_validation = np.zeros([10, num_assets])"
      ],
      "execution_count": 0,
      "outputs": []
    },
    {
      "metadata": {
        "colab_type": "code",
        "outputId": "febb07b0-fef3-41fd-c4d6-295c642d072b",
        "id": "l8PTeqS5y-kQ",
        "colab": {
          "base_uri": "https://localhost:8080/",
          "height": 176
        }
      },
      "cell_type": "code",
      "source": [
        "portfolio_train, objectives_train = train(inputs_train,inputs_validation, num_assets, Portfolio_value_init, Portfolio_value_init_validation, \n",
        "                                          delta_init, delta_init_validation, num_epoch, batch_size = batch_size, learning_rate = learning_rate, layers = layers, \n",
        "                                          alpha = alpha, epsilon = epsilon)\n"
      ],
      "execution_count": 31,
      "outputs": [
        {
          "output_type": "stream",
          "text": [
            "/usr/local/lib/python3.6/dist-packages/tensorflow/python/client/session.py:1702: UserWarning: An interactive session is already active. This can cause out-of-memory errors in some cases. You must explicitly call `InteractiveSession.close()` to release resources held by the other session(s).\n",
            "  warnings.warn('An interactive session is already active. This can '\n"
          ],
          "name": "stderr"
        },
        {
          "output_type": "stream",
          "text": [
            "0\n",
            "-0.00036571297\n",
            "100\n",
            "-0.0004155161\n",
            "200\n",
            "-0.0006050622\n"
          ],
          "name": "stdout"
        }
      ]
    },
    {
      "metadata": {
        "colab_type": "code",
        "outputId": "8652d87b-2bcb-4447-9885-a575a40a2539",
        "id": "gtRGvFCKy-kT",
        "colab": {
          "base_uri": "https://localhost:8080/",
          "height": 323
        }
      },
      "cell_type": "code",
      "source": [
        "print(objectives_train[:50])\n",
        "print(objectives_train[-50:])"
      ],
      "execution_count": 0,
      "outputs": [
        {
          "output_type": "stream",
          "text": [
            "[0.00255656 0.00244122 0.0023906  0.00228568 0.00287814 0.00242654\n",
            " 0.00305616 0.00206494 0.00200849 0.00225597 0.00254965 0.00201635\n",
            " 0.00266121 0.00220674 0.00235726 0.00228411 0.00214707 0.00231969\n",
            " 0.00212621 0.00202762 0.00235181 0.00230962 0.00207418 0.00208504\n",
            " 0.00190819 0.00216769 0.00195144 0.00212114 0.0019426  0.00258585\n",
            " 0.00208229 0.00214992 0.00209896 0.00210069 0.00216954 0.0021672\n",
            " 0.00235005 0.00173403 0.00177208 0.00205329 0.00191048 0.00236599\n",
            " 0.00209511 0.00194436 0.00190729 0.00220518 0.00222283 0.00216082\n",
            " 0.00190339 0.00194444]\n",
            "[0.00117529 0.00163354 0.00149232 0.00130002 0.00132764 0.00140438\n",
            " 0.00128265 0.00120961 0.00181825 0.0015632  0.00142763 0.00163424\n",
            " 0.00157671 0.00147505 0.00128773 0.0016656  0.00146872 0.00126853\n",
            " 0.00140992 0.0015486  0.00141296 0.00107953 0.00153581 0.00172067\n",
            " 0.0016694  0.00146596 0.00161099 0.00136485 0.00165376 0.0014102\n",
            " 0.00127202 0.00153723 0.00147681 0.00157953 0.00144039 0.0013933\n",
            " 0.00145487 0.00135226 0.00207043 0.00170691 0.0013864  0.00133813\n",
            " 0.00134048 0.00114774 0.00135108 0.00121328 0.00164218 0.00166326\n",
            " 0.00133796 0.00104154]\n"
          ],
          "name": "stdout"
        }
      ]
    },
    {
      "metadata": {
        "colab_type": "text",
        "id": "cnZhrPwHy-kX"
      },
      "cell_type": "markdown",
      "source": [
        "Test"
      ]
    },
    {
      "metadata": {
        "colab_type": "code",
        "outputId": "74415cea-0989-4317-c280-337b3f002a35",
        "id": "6a57Z8cNy-kX",
        "colab": {
          "base_uri": "https://localhost:8080/",
          "height": 34
        }
      },
      "cell_type": "code",
      "source": [
        "inputs_val_test = np.load('important_data_new/inputs_test_normalized.npy')\n",
        "inputs_val_test.shape"
      ],
      "execution_count": 13,
      "outputs": [
        {
          "output_type": "execute_result",
          "data": {
            "text/plain": [
              "(23, 79, 91)"
            ]
          },
          "metadata": {
            "tags": []
          },
          "execution_count": 13
        }
      ]
    },
    {
      "metadata": {
        "id": "PFL9MklYo5OX",
        "colab_type": "code",
        "colab": {}
      },
      "cell_type": "code",
      "source": [
        "inputs_test = inputs_val_test[10:, :, :]"
      ],
      "execution_count": 0,
      "outputs": []
    },
    {
      "metadata": {
        "colab_type": "code",
        "id": "-yBioC8Ky-kc",
        "colab": {}
      },
      "cell_type": "code",
      "source": [
        "num_assets = 14\n",
        "Portfolio_value_init_test = np.ones(1)*100\n",
        "delta_init_test = np.zeros([1, num_assets])"
      ],
      "execution_count": 0,
      "outputs": []
    },
    {
      "metadata": {
        "colab_type": "code",
        "id": "S2KLdipEy-kf",
        "colab": {}
      },
      "cell_type": "code",
      "source": [
        "Portfolio_values = []\n",
        "deltas_vect = []\n",
        "proportions_vect = []\n",
        "returns_vect = []\n",
        "for k in range(13):\n",
        "  Portfolio_values_test, deltas_vect_test, proportions_vect_test, returns_vect_test = predict(portfolio_train, np.expand_dims(inputs_test[k,:,:], 0), Portfolio_value_init_test, delta_init_test, alpha = alpha, epsilon = epsilon)\n",
        "  Portfolio_values.append(Portfolio_values_test[0,1:])\n",
        "  deltas_vect.append(deltas_vect_test[0,:,:])\n",
        "  proportions_vect.append(proportions_vect_test[0,:,:])\n",
        "  returns_vect.append(returns_vect_test[0,:])\n",
        "  Portfolio_value_init_test = np.ones(1)*Portfolio_values_test[0,90]\n",
        "  delta_init_test = np.expand_dims(deltas_vect_test[0,:,89],0)\n",
        "  \n",
        "  \n",
        "Portfolio_values = np.array(Portfolio_values)\n",
        "Portfolio_values_total = np.concatenate(Portfolio_values, axis=0)\n",
        "Portfolio_values_total = np.append(100,Portfolio_values_total)\n",
        "\n",
        "proportions_vect = np.array(proportions_vect)\n",
        "proportions_vect = np.concatenate(proportions_vect, axis=1)\n",
        "\n",
        "deltas_vect = np.array(deltas_vect)\n",
        "deltas_vect = np.concatenate(deltas_vect, axis=1)\n",
        "\n",
        "returns_vect = np.array(returns_vect)\n",
        "returns_vect = np.concatenate(returns_vect, axis=0)\n",
        "  \n",
        "  \n",
        "  "
      ],
      "execution_count": 0,
      "outputs": []
    },
    {
      "metadata": {
        "colab_type": "code",
        "outputId": "e6eb4e17-2fe9-4031-9ffc-19d3adead9f6",
        "id": "fP3T1a2My-ki",
        "colab": {
          "base_uri": "https://localhost:8080/",
          "height": 34
        }
      },
      "cell_type": "code",
      "source": [
        "Portfolio_values_total.shape"
      ],
      "execution_count": 18,
      "outputs": [
        {
          "output_type": "execute_result",
          "data": {
            "text/plain": [
              "(1171,)"
            ]
          },
          "metadata": {
            "tags": []
          },
          "execution_count": 18
        }
      ]
    },
    {
      "metadata": {
        "colab_type": "code",
        "id": "bsGryiKmy-kn",
        "colab": {}
      },
      "cell_type": "code",
      "source": [
        "ptf_cap_total = np.load(\"important_data_new/pft_cap_total.npy\")\n",
        "ptf_cap_total.shape\n",
        "ptf_cap_total=ptf_cap_total[-1171:]"
      ],
      "execution_count": 0,
      "outputs": []
    },
    {
      "metadata": {
        "id": "wPOksRRipJuQ",
        "colab_type": "code",
        "colab": {}
      },
      "cell_type": "code",
      "source": [
        "ptf_cap_total = ptf_cap_total/ptf_cap_total[0]*100"
      ],
      "execution_count": 0,
      "outputs": []
    },
    {
      "metadata": {
        "colab_type": "code",
        "outputId": "83b16489-c072-4805-eabc-7552f65f6998",
        "id": "2oq7EhwGy-ks",
        "colab": {
          "base_uri": "https://localhost:8080/",
          "height": 269
        }
      },
      "cell_type": "code",
      "source": [
        "plt.plot(Portfolio_values_total, '#ff7f24', label = \"srnn\")\n",
        "plt.plot(ptf_cap_total, '#53868b', label = \"benchmark\")\n",
        "plt.legend(loc='upper left')\n",
        "\n",
        "plt.savefig('portfolio_value_transactions_1.eps', format='eps', dpi=1000)\n",
        "\n",
        "plt.show()\n",
        "\n",
        "#files.download(\"portfolio_value_transactions_1.eps\")"
      ],
      "execution_count": 34,
      "outputs": [
        {
          "output_type": "display_data",
          "data": {
            "image/png": "[encoded data removed]",
            "text/plain": [
              "<Figure size 432x288 with 1 Axes>"
            ]
          },
          "metadata": {
            "tags": []
          }
        }
      ]
    },
    {
      "metadata": {
        "colab_type": "code",
        "outputId": "e2e3dfab-f851-4743-ae73-c6495ee81889",
        "id": "uwfKn3Y6y-ku",
        "colab": {
          "base_uri": "https://localhost:8080/",
          "height": 266
        }
      },
      "cell_type": "code",
      "source": [
        "fig = plt.figure(figsize=(8,3.5))\n",
        "ax  = fig.add_subplot(111)\n",
        "\n",
        "labels = [\"Cash\", \"SHW\", \"EMR\", \"SLB\", \"CLX\", \"GIS\", \"MCD\", \"BAX\", \"BDX\", \"HPQ\", \"WMB\", \"JPM\", \"AXP\", \"BAC\"]\n",
        "pal = sns.color_palette(\"hls\", 14)\n",
        "ax.set_position([0.1,0.1,0.7,0.85])\n",
        "ax.stackplot(range(1183), proportions_vect[0,:], proportions_vect[1, :], proportions_vect[2, :], \n",
        "             proportions_vect[3, :], proportions_vect[4, :], proportions_vect[5, :],\n",
        "             proportions_vect[6, :], proportions_vect[7, :], proportions_vect[8, :],\n",
        "             proportions_vect[9, :], proportions_vect[10, :], proportions_vect[11, :],\n",
        "             proportions_vect[12, :], proportions_vect[13, :],colors=pal, labels=labels)\n",
        "#ax.legend(loc=10)\n",
        "\n",
        "ax.legend(bbox_to_anchor=(1.20, 0.5), loc='right', ncol=1)\n",
        "\n",
        "\n",
        "plt.savefig('proportions_transactions_1.eps', format='eps', dpi=1000)\n",
        "\n",
        "\n",
        "plt.show()\n",
        "\n",
        "#files.download(\"proportions_transactions_1.eps\")\n"
      ],
      "execution_count": 35,
      "outputs": [
        {
          "output_type": "display_data",
          "data": {
            "image/png": "[encoded data removed]",
            "text/plain": [
              "<Figure size 576x252 with 1 Axes>"
            ]
          },
          "metadata": {
            "tags": []
          }
        }
      ]
    },
    {
      "metadata": {
        "id": "X1yJJDL40LKr",
        "colab_type": "text"
      },
      "cell_type": "markdown",
      "source": [
        "## Statistics for srnn"
      ]
    },
    {
      "metadata": {
        "id": "pLb1RYub6jrV",
        "colab_type": "text"
      },
      "cell_type": "markdown",
      "source": [
        "**Mean**"
      ]
    },
    {
      "metadata": {
        "id": "4jQudRIo9HT8",
        "colab_type": "code",
        "outputId": "c4e6dc0e-1f17-4f83-8f37-8c3f94aaa622",
        "colab": {
          "base_uri": "https://localhost:8080/",
          "height": 34
        }
      },
      "cell_type": "code",
      "source": [
        "np.mean(returns_vect)"
      ],
      "execution_count": 97,
      "outputs": [
        {
          "output_type": "execute_result",
          "data": {
            "text/plain": [
              "0.00059177773"
            ]
          },
          "metadata": {
            "tags": []
          },
          "execution_count": 97
        }
      ]
    },
    {
      "metadata": {
        "id": "eIZ6O5y_9TWV",
        "colab_type": "text"
      },
      "cell_type": "markdown",
      "source": [
        "**Volatility**"
      ]
    },
    {
      "metadata": {
        "id": "tAIrd3gP9Jzz",
        "colab_type": "code",
        "outputId": "c8b66a4f-e6f0-4dd0-a0d6-4e2473a67153",
        "colab": {
          "base_uri": "https://localhost:8080/",
          "height": 34
        }
      },
      "cell_type": "code",
      "source": [
        "np.std(returns_vect)"
      ],
      "execution_count": 98,
      "outputs": [
        {
          "output_type": "execute_result",
          "data": {
            "text/plain": [
              "0.010339642"
            ]
          },
          "metadata": {
            "tags": []
          },
          "execution_count": 98
        }
      ]
    },
    {
      "metadata": {
        "id": "NTKV-tMA-OvY",
        "colab_type": "text"
      },
      "cell_type": "markdown",
      "source": [
        "**Skewness**"
      ]
    },
    {
      "metadata": {
        "id": "Cu8Cb19-9Yif",
        "colab_type": "code",
        "outputId": "3e0aed6c-e631-42c5-c57a-5cad8c7a48b8",
        "colab": {
          "base_uri": "https://localhost:8080/",
          "height": 34
        }
      },
      "cell_type": "code",
      "source": [
        "skew(returns_vect)"
      ],
      "execution_count": 99,
      "outputs": [
        {
          "output_type": "execute_result",
          "data": {
            "text/plain": [
              "-2.6994845867156982"
            ]
          },
          "metadata": {
            "tags": []
          },
          "execution_count": 99
        }
      ]
    },
    {
      "metadata": {
        "id": "zCZrCh7D_CGh",
        "colab_type": "text"
      },
      "cell_type": "markdown",
      "source": [
        "**Kurtosis (Fisher definition (-3))**"
      ]
    },
    {
      "metadata": {
        "id": "USQlAUZx_I-v",
        "colab_type": "code",
        "outputId": "e68e57b6-d7d0-44ea-b789-99673c69536d",
        "colab": {
          "base_uri": "https://localhost:8080/",
          "height": 34
        }
      },
      "cell_type": "code",
      "source": [
        "kurtosis(returns_vect)"
      ],
      "execution_count": 100,
      "outputs": [
        {
          "output_type": "execute_result",
          "data": {
            "text/plain": [
              "39.74717689114416"
            ]
          },
          "metadata": {
            "tags": []
          },
          "execution_count": 100
        }
      ]
    },
    {
      "metadata": {
        "id": "3KtPcB2ZAiES",
        "colab_type": "text"
      },
      "cell_type": "markdown",
      "source": [
        "**Turnover**"
      ]
    },
    {
      "metadata": {
        "id": "7rRhVDZWXGpJ",
        "colab_type": "code",
        "outputId": "0c1edd28-c579-4560-c9fc-07e9597689f9",
        "colab": {
          "base_uri": "https://localhost:8080/",
          "height": 34
        }
      },
      "cell_type": "code",
      "source": [
        "np.mean(np.sum(np.abs(proportions_vect[:,1:] - proportions_vect[:,:-1]), axis = 0))"
      ],
      "execution_count": 101,
      "outputs": [
        {
          "output_type": "execute_result",
          "data": {
            "text/plain": [
              "0.041692264"
            ]
          },
          "metadata": {
            "tags": []
          },
          "execution_count": 101
        }
      ]
    },
    {
      "metadata": {
        "id": "M7Bz6mKcrTvH",
        "colab_type": "text"
      },
      "cell_type": "markdown",
      "source": [
        "**Maximum Drawdown**"
      ]
    },
    {
      "metadata": {
        "id": "axrJeixVrYm9",
        "colab_type": "code",
        "outputId": "6c652487-7553-49aa-9817-4b0356198b8f",
        "colab": {
          "base_uri": "https://localhost:8080/",
          "height": 286
        }
      },
      "cell_type": "code",
      "source": [
        "i = np.argmax(np.maximum.accumulate(Portfolio_values_total) - Portfolio_values_total) # end of the period\n",
        "j = np.argmax(Portfolio_values_total[:i])\n",
        "\n",
        "plt.plot(Portfolio_values_total, '#ff7f24')\n",
        "plt.plot([i, j], [Portfolio_values_total[i], Portfolio_values_total[j]], 'o', color = 'k', markersize = 3)\n",
        "\n",
        "plt.show()\n",
        "\n",
        "(Portfolio_values_total[j] - Portfolio_values_total[i])/Portfolio_values_total[i]\n"
      ],
      "execution_count": 102,
      "outputs": [
        {
          "output_type": "display_data",
          "data": {
            "image/png": "[encoded data removed]",
            "text/plain": [
              "<Figure size 432x288 with 1 Axes>"
            ]
          },
          "metadata": {
            "tags": []
          }
        },
        {
          "output_type": "execute_result",
          "data": {
            "text/plain": [
              "0.45409294785730625"
            ]
          },
          "metadata": {
            "tags": []
          },
          "execution_count": 102
        }
      ]
    },
    {
      "metadata": {
        "id": "4ZfRzkdY9hDh",
        "colab_type": "text"
      },
      "cell_type": "markdown",
      "source": [
        "## Statistics for benchmark"
      ]
    },
    {
      "metadata": {
        "id": "2-MHAAxK9lKv",
        "colab_type": "code",
        "colab": {}
      },
      "cell_type": "code",
      "source": [
        "returns_benchmark = (ptf_cap_total[1:] - ptf_cap_total[:-1]) / ptf_cap_total[:-1]"
      ],
      "execution_count": 0,
      "outputs": []
    },
    {
      "metadata": {
        "id": "MydGx23g98d2",
        "colab_type": "text"
      },
      "cell_type": "markdown",
      "source": [
        "**Mean**"
      ]
    },
    {
      "metadata": {
        "id": "ZNIjNNSC93pq",
        "colab_type": "code",
        "outputId": "e782255d-0a18-48e9-cba3-d8a56bb68ad7",
        "colab": {
          "base_uri": "https://localhost:8080/",
          "height": 34
        }
      },
      "cell_type": "code",
      "source": [
        "np.mean(returns_benchmark)"
      ],
      "execution_count": 104,
      "outputs": [
        {
          "output_type": "execute_result",
          "data": {
            "text/plain": [
              "0.0005200717640137289"
            ]
          },
          "metadata": {
            "tags": []
          },
          "execution_count": 104
        }
      ]
    },
    {
      "metadata": {
        "id": "PPJGCicC9-bK",
        "colab_type": "text"
      },
      "cell_type": "markdown",
      "source": [
        "**Volatility**"
      ]
    },
    {
      "metadata": {
        "id": "5InHglQg96Sb",
        "colab_type": "code",
        "outputId": "7c73c23e-bfb3-4df2-d2a2-10a7ba365728",
        "colab": {
          "base_uri": "https://localhost:8080/",
          "height": 34
        }
      },
      "cell_type": "code",
      "source": [
        "np.std(returns_benchmark)"
      ],
      "execution_count": 0,
      "outputs": [
        {
          "output_type": "execute_result",
          "data": {
            "text/plain": [
              "0.008354433179746603"
            ]
          },
          "metadata": {
            "tags": []
          },
          "execution_count": 24
        }
      ]
    },
    {
      "metadata": {
        "id": "lC3o3UD2-6Oj",
        "colab_type": "text"
      },
      "cell_type": "markdown",
      "source": [
        "**Skewness**"
      ]
    },
    {
      "metadata": {
        "id": "XmPDyKsU-Lt6",
        "colab_type": "code",
        "outputId": "6f04ad35-10ec-486b-e4c6-a5bf0b50f7a4",
        "colab": {
          "base_uri": "https://localhost:8080/",
          "height": 34
        }
      },
      "cell_type": "code",
      "source": [
        "skew(returns_benchmark)"
      ],
      "execution_count": 0,
      "outputs": [
        {
          "output_type": "execute_result",
          "data": {
            "text/plain": [
              "-0.3733724245957868"
            ]
          },
          "metadata": {
            "tags": []
          },
          "execution_count": 25
        }
      ]
    },
    {
      "metadata": {
        "id": "PmE0TOxo_LoJ",
        "colab_type": "text"
      },
      "cell_type": "markdown",
      "source": [
        "**Kurtosis (Fisher definition (-3))**"
      ]
    },
    {
      "metadata": {
        "id": "hjFkN0ve--Lk",
        "colab_type": "code",
        "outputId": "2bb5f8b3-2e23-4da1-db43-89b083670342",
        "colab": {
          "base_uri": "https://localhost:8080/",
          "height": 34
        }
      },
      "cell_type": "code",
      "source": [
        "kurtosis(returns_benchmark)"
      ],
      "execution_count": 0,
      "outputs": [
        {
          "output_type": "execute_result",
          "data": {
            "text/plain": [
              "3.3228092566869707"
            ]
          },
          "metadata": {
            "tags": []
          },
          "execution_count": 26
        }
      ]
    },
    {
      "metadata": {
        "id": "OHllK-7Sm8zs",
        "colab_type": "text"
      },
      "cell_type": "markdown",
      "source": [
        "**Maximum Drawdown**"
      ]
    },
    {
      "metadata": {
        "id": "3uOnXjEbnCMs",
        "colab_type": "code",
        "outputId": "77d2a8e5-1508-4f3a-df02-2f90cc023516",
        "colab": {
          "base_uri": "https://localhost:8080/",
          "height": 286
        }
      },
      "cell_type": "code",
      "source": [
        "i = np.argmax(np.maximum.accumulate(ptf_cap_total) - ptf_cap_total) # end of the period\n",
        "j = np.argmax(ptf_cap_total[:i])\n",
        "\n",
        "plt.plot(ptf_cap_total, '#53868b')\n",
        "plt.plot([i, j], [ptf_cap_total[i], ptf_cap_total[j]], 'o', color = 'k', markersize = 3)\n",
        "\n",
        "plt.show()\n",
        "\n",
        "(ptf_cap_total[j] - ptf_cap_total[i])/ptf_cap_total[i]\n"
      ],
      "execution_count": 0,
      "outputs": [
        {
          "output_type": "display_data",
          "data": {
            "image/png": "[encoded data removed]",
            "text/plain": [
              "<Figure size 432x288 with 1 Axes>"
            ]
          },
          "metadata": {
            "tags": []
          }
        },
        {
          "output_type": "execute_result",
          "data": {
            "text/plain": [
              "0.2638151063310318"
            ]
          },
          "metadata": {
            "tags": []
          },
          "execution_count": 27
        }
      ]
    },
    {
      "metadata": {
        "id": "AtfQXqIlATlX",
        "colab_type": "text"
      },
      "cell_type": "markdown",
      "source": [
        "## Information Ratio"
      ]
    },
    {
      "metadata": {
        "id": "PYCqRkM9_Wm3",
        "colab_type": "code",
        "outputId": "9a941197-cea4-4c85-ed71-d7baca0dda9c",
        "colab": {
          "base_uri": "https://localhost:8080/",
          "height": 34
        }
      },
      "cell_type": "code",
      "source": [
        "np.sqrt(252)*(np.mean(returns_vect - returns_benchmark))/(np.std(returns_vect - returns_benchmark))"
      ],
      "execution_count": 105,
      "outputs": [
        {
          "output_type": "execute_result",
          "data": {
            "text/plain": [
              "0.15971828379761524"
            ]
          },
          "metadata": {
            "tags": []
          },
          "execution_count": 105
        }
      ]
    },
    {
      "metadata": {
        "id": "Ye78aD8P80AH",
        "colab_type": "code",
        "colab": {}
      },
      "cell_type": "code",
      "source": [
        ""
      ],
      "execution_count": 0,
      "outputs": []
    }
  ]
}